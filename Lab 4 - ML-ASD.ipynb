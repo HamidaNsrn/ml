{
 "cells": [
  {
   "cell_type": "markdown",
   "metadata": {},
   "source": [
    "# Loading Data"
   ]
  },
  {
   "cell_type": "code",
   "execution_count": 3,
   "metadata": {},
   "outputs": [],
   "source": [
    "### Loading Data\n",
    "\n",
    "   ###### QUIZ #####\n"
   ]
  },
  {
   "cell_type": "code",
   "execution_count": 2,
   "metadata": {},
   "outputs": [],
   "source": [
    "### Test\n",
    "\n"
   ]
  },
  {
   "cell_type": "markdown",
   "metadata": {},
   "source": [
    "# Control statements: for, while, if statements"
   ]
  },
  {
   "cell_type": "code",
   "execution_count": null,
   "metadata": {},
   "outputs": [],
   "source": [
    "import numpy as np\n",
    "\n",
    "vector = np.zeros((10,1))\n",
    "#range (vector.size) ## (0, 10)\n",
    "\n",
    "\n",
    "### For  loop\n",
    "\n",
    "for i in range(vector.size):\n",
    "    vector[i] = np.power (2,i)\n",
    "\n",
    "print (vector)\n",
    "\n",
    "\n",
    "\n",
    "### While  loop\n",
    "\n",
    "i=0\n",
    "while i < (vector.size/2):\n",
    "    vector[i] = 100\n",
    "    i=i+1\n",
    "    \n",
    "print (vector)\n",
    "\n",
    "\n",
    "### If Statement\n",
    "\n",
    "i=0\n",
    "while i in range(vector.size):\n",
    "    vector[i] = 666\n",
    "    i=i+1\n",
    "    if i == 7:\n",
    "    \n",
    "        break\n",
    "    \n",
    "print (vector)\n",
    "\n",
    "\n",
    "### If ... Else\n",
    "\n",
    "\n",
    "for i in range(vector.size):\n",
    "    if (vector[i]==0):\n",
    "        print ('The vector has the value ZERO -- 000!\\n')\n",
    "        \n",
    "    elif (vector[1]==1):\n",
    "            print ('The vector has the value ONE -- 111!\\n')\n",
    "    else:\n",
    "        print ('The  value is note ZERO is not ONE !\\n')\n"
   ]
  },
  {
   "cell_type": "code",
   "execution_count": 34,
   "metadata": {},
   "outputs": [
    {
     "data": {
      "text/plain": [
       "10"
      ]
     },
     "execution_count": 34,
     "metadata": {},
     "output_type": "execute_result"
    }
   ],
   "source": [
    "### Test\n",
    "\n",
    "import numpy as np\n",
    "\n",
    "\n",
    "\n",
    "\n",
    "vector.size"
   ]
  },
  {
   "cell_type": "markdown",
   "metadata": {},
   "source": [
    "# Functions"
   ]
  },
  {
   "cell_type": "code",
   "execution_count": 32,
   "metadata": {},
   "outputs": [],
   "source": [
    "def MathCalcul(x):\n",
    "    answer = np.array(np.sin(2*math.pi*4*x))\n",
    "    return answer\n"
   ]
  },
  {
   "cell_type": "code",
   "execution_count": 36,
   "metadata": {},
   "outputs": [
    {
     "name": "stdout",
     "output_type": "stream",
     "text": [
      " The size : T1 is  98  --- Y 1 is  98 \n",
      " \n",
      " The size:  T2 is  10  --- Y 2 is  10\n"
     ]
    },
    {
     "data": {
      "text/plain": [
       "10"
      ]
     },
     "execution_count": 36,
     "metadata": {},
     "output_type": "execute_result"
    }
   ],
   "source": [
    "import numpy as np\n",
    "import math\n",
    "\n",
    "T1 = np.arange(0,0.98,0.01)\n",
    "T2 = np.arange(1,2,0.1)\n",
    "\n",
    "## Call the function\n",
    "\n",
    "Y1 = MathCalcul(T1)\n",
    "\n",
    "Y2 = MathCalcul(T2)\n",
    "\n",
    "print (\" The size : T1 is \", np.size(T1), \" --- Y 1 is \", np.size(Y1),  \n",
    "       \"\\n \\n The size:  T2 is \", np.size(T2), \" --- Y 2 is \", np.size(Y2))\n",
    "\n",
    "np.size(T2)\n",
    "vector.size"
   ]
  },
  {
   "cell_type": "markdown",
   "metadata": {},
   "source": [
    "# Vectorization"
   ]
  },
  {
   "cell_type": "markdown",
   "metadata": {},
   "source": [
    "Vectorization is the process of taking code that relies on loops and converting it into matrix operations. \n",
    "\n",
    "It is more efficient, more elegant, and more concise.\n",
    "\n"
   ]
  },
  {
   "cell_type": "code",
   "execution_count": null,
   "metadata": {},
   "outputs": [],
   "source": [
    "### Vectorixation Example\n",
    "\n",
    "\n",
    "Theta = np.array ([1,2,3]) # Theta is the vector of fields for the hypothesis \n",
    "\n",
    "X = np.array ([9, 6, 4]) #  X is a vector of variables\n",
    "\n",
    "Length  = Theta.size\n",
    "## Compute Prediction from a Hypothesis\n",
    "\n",
    "\n",
    "############### LooP Version ##########\n",
    "\n",
    "Prediction_L = 0\n",
    "\n",
    "for j in range (Length):\n",
    "    Prediction_L += Theta[j] * X[j]\n",
    "\n",
    "#print (Prediction_L)\n",
    "\n",
    "\n",
    "############### Vectorized Version ##########\n",
    "\n",
    "Prediction_V = np.dot (Theta.T , X)\n",
    "\n",
    "#print (Prediction_V)"
   ]
  },
  {
   "cell_type": "code",
   "execution_count": 3,
   "metadata": {},
   "outputs": [
    {
     "data": {
      "text/plain": [
       "33"
      ]
     },
     "execution_count": 3,
     "metadata": {},
     "output_type": "execute_result"
    }
   ],
   "source": [
    "#### Test \n",
    "\n",
    "Theta = np.array ([1,2,3]) # Theta is the vector of fields for the hypothesis \n",
    "\n",
    "X = np.array ([9, 6, 4]) #  X is a vector of variables\n",
    "\n",
    "Length  = Theta.size\n",
    "## Compute Prediction from a Hypothesis\n",
    "\n",
    "\n",
    "############### LooP Version ##########\n",
    "\n",
    "Prediction_L = 0\n",
    "\n",
    "for j in range (Length):\n",
    "    Prediction_L += Theta[j] * X[j]\n",
    "\n",
    "#print (Prediction_L)\n",
    "\n",
    "Prediction_V = np.dot (Theta.T , X)\n",
    "Prediction_V\n",
    "\n",
    "#print (Theta)\n",
    "#print (Theta.T)"
   ]
  },
  {
   "cell_type": "code",
   "execution_count": 25,
   "metadata": {},
   "outputs": [],
   "source": [
    "Theta = np.array ([1,2,3]) # Theta is the vector of fields for the hypothesis \n",
    "\n",
    "X = np.array ([9, 6, 4]) #  X is a vector of variables\n",
    "c= np.arange(5)\n",
    "Length  = Theta.size\n",
    "\n",
    "Prediction_L = 0\n",
    "\n",
    "for j in range (Length):\n",
    "    Prediction_L += Theta[j] * X[j]\n",
    "\n",
    "#print (Prediction_L)\n",
    "\n",
    "\n",
    "Prediction_V = np.dot (Theta.T , X)\n",
    "\n",
    "#print (Prediction_V)"
   ]
  },
  {
   "cell_type": "code",
   "execution_count": null,
   "metadata": {},
   "outputs": [],
   "source": []
  },
  {
   "cell_type": "code",
   "execution_count": null,
   "metadata": {},
   "outputs": [],
   "source": []
  },
  {
   "cell_type": "code",
   "execution_count": null,
   "metadata": {},
   "outputs": [],
   "source": []
  }
 ],
 "metadata": {
  "kernelspec": {
   "display_name": "Python 3",
   "language": "python",
   "name": "python3"
  },
  "language_info": {
   "codemirror_mode": {
    "name": "ipython",
    "version": 3
   },
   "file_extension": ".py",
   "mimetype": "text/x-python",
   "name": "python",
   "nbconvert_exporter": "python",
   "pygments_lexer": "ipython3",
   "version": "3.7.4"
  }
 },
 "nbformat": 4,
 "nbformat_minor": 2
}
